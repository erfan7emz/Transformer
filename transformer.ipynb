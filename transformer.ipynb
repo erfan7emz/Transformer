{
  "cells": [
    {
      "cell_type": "markdown",
      "metadata": {
        "id": "uHZhkDjZEV-5"
      },
      "source": [
        "# CS 480/680 assignment 3\n",
        "\n",
        "Tips:\n",
        "- Please save a copy of this notebook to avoid losing your changes.\n",
        "- Debug your code and ensure that it can run.\n",
        "- Save the output of each cell. Failure to do so may result in your coding questions not being graded.\n",
        "- To accelerate the training time, you can choose 'Runtime' -> 'Change runtime type' -> 'Hardware accelerator' and set 'Hardware accelerator' to 'GPU'.\n",
        "- Your grade is independent of the accuracy of your models. Your grade will depend on the correctness of your code and implementation.\n",
        "\n",
        "Tips for sumbission:\n",
        "- Do not change the order of the problems.\n",
        "- Select 'Runtime' -> 'Run all' to run all cells and generate a final \"gradable\" version of your notebook and save your ipynb file.\n",
        "- Also use 'File' -> 'Print' and then print your report from your browser into a PDF file."
      ]
    },
    {
      "cell_type": "markdown",
      "metadata": {
        "id": "GK9gmfL4KxeF"
      },
      "source": [
        "## Question 1 - Implementing GAN for MNIST dataset (35 points)\n",
        "\n",
        "In this question we are going to impelement a generative network that can generate MNIST handwritten digits from random Gaussian noise."
      ]
    },
    {
      "cell_type": "markdown",
      "metadata": {
        "id": "_n-Mg5YdE5YR"
      },
      "source": [
        "### Q1.1 (2 points)\n",
        "\n",
        "We start by creating the data loaders. Note that each MNIST image is of size 28\\*28. The **first task** is to build the ```data_loader```"
      ]
    },
    {
      "cell_type": "code",
      "execution_count": 2,
      "metadata": {
        "id": "z-BU1m9IEXKY",
        "colab": {
          "base_uri": "https://localhost:8080/",
          "height": 0
        },
        "outputId": "5beccdf9-237d-479e-e331-bb172f4b1e82"
      },
      "outputs": [
        {
          "output_type": "stream",
          "name": "stdout",
          "text": [
            "Downloading http://yann.lecun.com/exdb/mnist/train-images-idx3-ubyte.gz\n",
            "Downloading http://yann.lecun.com/exdb/mnist/train-images-idx3-ubyte.gz to ./data/MNIST/raw/train-images-idx3-ubyte.gz\n"
          ]
        },
        {
          "output_type": "stream",
          "name": "stderr",
          "text": [
            "100%|██████████| 9912422/9912422 [00:00<00:00, 143770549.39it/s]\n"
          ]
        },
        {
          "output_type": "stream",
          "name": "stdout",
          "text": [
            "Extracting ./data/MNIST/raw/train-images-idx3-ubyte.gz to ./data/MNIST/raw\n",
            "\n",
            "Downloading http://yann.lecun.com/exdb/mnist/train-labels-idx1-ubyte.gz\n",
            "Downloading http://yann.lecun.com/exdb/mnist/train-labels-idx1-ubyte.gz to ./data/MNIST/raw/train-labels-idx1-ubyte.gz\n"
          ]
        },
        {
          "output_type": "stream",
          "name": "stderr",
          "text": [
            "100%|██████████| 28881/28881 [00:00<00:00, 32371911.76it/s]\n"
          ]
        },
        {
          "output_type": "stream",
          "name": "stdout",
          "text": [
            "Extracting ./data/MNIST/raw/train-labels-idx1-ubyte.gz to ./data/MNIST/raw\n",
            "\n",
            "Downloading http://yann.lecun.com/exdb/mnist/t10k-images-idx3-ubyte.gz\n",
            "Downloading http://yann.lecun.com/exdb/mnist/t10k-images-idx3-ubyte.gz to ./data/MNIST/raw/t10k-images-idx3-ubyte.gz\n"
          ]
        },
        {
          "output_type": "stream",
          "name": "stderr",
          "text": [
            "100%|██████████| 1648877/1648877 [00:00<00:00, 51353595.38it/s]"
          ]
        },
        {
          "output_type": "stream",
          "name": "stdout",
          "text": [
            "Extracting ./data/MNIST/raw/t10k-images-idx3-ubyte.gz to ./data/MNIST/raw\n"
          ]
        },
        {
          "output_type": "stream",
          "name": "stderr",
          "text": [
            "\n"
          ]
        },
        {
          "output_type": "stream",
          "name": "stdout",
          "text": [
            "\n",
            "Downloading http://yann.lecun.com/exdb/mnist/t10k-labels-idx1-ubyte.gz\n",
            "Downloading http://yann.lecun.com/exdb/mnist/t10k-labels-idx1-ubyte.gz to ./data/MNIST/raw/t10k-labels-idx1-ubyte.gz\n"
          ]
        },
        {
          "output_type": "stream",
          "name": "stderr",
          "text": [
            "100%|██████████| 4542/4542 [00:00<00:00, 3611474.65it/s]\n"
          ]
        },
        {
          "output_type": "stream",
          "name": "stdout",
          "text": [
            "Extracting ./data/MNIST/raw/t10k-labels-idx1-ubyte.gz to ./data/MNIST/raw\n",
            "\n"
          ]
        }
      ],
      "source": [
        "import torch\n",
        "import torch.nn as nn\n",
        "import torch.optim as optim\n",
        "from torchvision import datasets, transforms\n",
        "from torch.utils.data import DataLoader\n",
        "import matplotlib.pyplot as plt\n",
        "import os\n",
        "\n",
        "\n",
        "# Setting the device\n",
        "device = torch.device('cuda' if torch.cuda.is_available() else 'cpu')\n",
        "\n",
        "transform = transforms.Compose([\n",
        "    transforms.ToTensor(),\n",
        "    transforms.Normalize((0.5,), (0.5,))\n",
        "])\n",
        "batch_size = 100\n",
        "train_dataset = datasets.MNIST(root='./data', train=True, transform=transform, download=True)\n",
        "\n",
        "#ToDo: Build the train data loader using the above batch_size varibale and shuffling the dataset.\n",
        "data_loader = DataLoader(train_dataset, batch_size=batch_size, shuffle=True)"
      ]
    },
    {
      "cell_type": "markdown",
      "metadata": {
        "id": "w_-NwpdfFGQs"
      },
      "source": [
        "### Q1.2 Generator (5 points)\n",
        "We will be building simple Generator and Discriminators that only consist of fully-connected layers. The Generator takes as input a Gaussian vector with dimension ```n_dim```. It consists of two linear layers with ```256``` and ```512``` nodes and the output layer should of dimension ```28*28=784``` so that it can be considered as unfolding a ```28*28``` image into a vector. The **second task** is to complete the following code for building the Generator."
      ]
    },
    {
      "cell_type": "code",
      "execution_count": 3,
      "metadata": {
        "id": "uACYmlwwG2tL"
      },
      "outputs": [],
      "source": [
        "class Generator(nn.Module):\n",
        "    def __init__(self, n_dim):\n",
        "        super(Generator, self).__init__()\n",
        "        #ToDo: Complete the code\n",
        "        #The activation function for the two hidden layers is ReLU.\n",
        "        #The last layer's activation function is Tanh.\n",
        "        self.fc1 = nn.Linear(n_dim, 256)\n",
        "        self.fc2 = nn.Linear(256, 512)\n",
        "        self.fc3 = nn.Linear(512, 784)\n",
        "\n",
        "        self.relu = nn.ReLU()\n",
        "        self.tanh = nn.Tanh()\n",
        "\n",
        "\n",
        "    def forward(self, x):\n",
        "        #ToDo: Complete this function. The function takes as input x and outputs the result of applying the generator on x.\n",
        "\n",
        "        x = self.relu(self.fc1(x))\n",
        "        x = self.relu(self.fc2(x))\n",
        "        x = self.tanh(self.fc3(x))\n",
        "\n",
        "        return x"
      ]
    },
    {
      "cell_type": "markdown",
      "metadata": {
        "id": "InnZY0glITeK"
      },
      "source": [
        "### Q1.3 Discriminator (5 points)\n",
        "The Discriminator takes as input an image of size ```28*28```. It consists of two linear layers with ```512``` and ```256``` nodes and the output layer should be a single node. The **third task** complete the following code for building the Discriminator."
      ]
    },
    {
      "cell_type": "code",
      "execution_count": 4,
      "metadata": {
        "id": "t5hdsi10JWJI"
      },
      "outputs": [],
      "source": [
        "class Discriminator(nn.Module):\n",
        "    def __init__(self):\n",
        "        super(Discriminator, self).__init__()\n",
        "            #ToDo: Complete the code\n",
        "            #The activation functions for the two hidden layers are ReLU.\n",
        "            #The last layer's activation function is Sigmoid.\n",
        "        self.fc1 = nn.Linear(784, 512)\n",
        "        self.fc2 = nn.Linear(512, 256)\n",
        "        self.fc3 = nn.Linear(256, 1)\n",
        "\n",
        "        self.relu = nn.ReLU()\n",
        "        self.sigmoid = nn.Sigmoid()\n",
        "\n",
        "\n",
        "    def forward(self, x):\n",
        "        x = x.view(x.size(0), -1) # Making sure that the batch of images has the shape [batch_size,28*28] instead of [batch_size,1,28,28]\n",
        "        #ToDo: Complete this function. The function takes as input x and outputs the result of applying the generator on x.\n",
        "\n",
        "        x = self.relu(self.fc1(x))\n",
        "        x = self.relu(self.fc2(x))\n",
        "        x = self.sigmoid(self.fc3(x))\n",
        "\n",
        "        return x"
      ]
    },
    {
      "cell_type": "markdown",
      "metadata": {
        "id": "SXItGnRYK69p"
      },
      "source": [
        "### Q1.4 Initializaiton (2 points)\n",
        "\n",
        "The **fourth task** is to define the optimizers."
      ]
    },
    {
      "cell_type": "code",
      "execution_count": 5,
      "metadata": {
        "id": "FyuaaCJLLCdE"
      },
      "outputs": [],
      "source": [
        "n_dim = 100\n",
        "generator = Generator(n_dim).to(device)\n",
        "discriminator = Discriminator().to(device)\n",
        "lr = 0.0002\n",
        "\n",
        "\n",
        "criterion = nn.BCELoss()\n",
        "#ToDo: define the two different Adam optimizers for generator and discriminator with learning rates of lr.\n",
        "\n",
        "d_optimizer = torch.optim.Adam(discriminator.parameters(), lr=lr)\n",
        "g_optimizer = torch.optim.Adam(generator.parameters(), lr=lr)"
      ]
    },
    {
      "cell_type": "markdown",
      "metadata": {
        "id": "ASpkAhASZs-m"
      },
      "source": [
        "### Q1.5 Training (16 points)\n",
        "\n",
        "Note that when applying the ```criterion``` both the inputs should be on the same device. If you are defining a set of labels that you want to use in ```criterion``` you must move them to ```device``` first.\n",
        "\n",
        "Recall from the Goodfellow et al. 2014 that the following happens during the minimax game between Discriminator and the Generator.\n",
        "\n",
        "Discriminator is ascending\n",
        "$\\nabla\\frac{1}{m}\\sum_{i=1}^m\\log D(x^{(i)}) + \\log(1-D(G(z^{(i)})))$ where $D$ and $G$ denote the Districiminator and the Generator, respectively. Here, $x^{1},\\ldots,x^{m}$ is the batch of training examples (i.e., MNIST images) and $z^{(1)},\\ldots,z^{(m)}$ is a batch of random noise.\n",
        "\n",
        "Also note that for two batches $x=\\{x^{1},\\ldots,x^{m}\\}$ and $y=\\{y^{1},\\ldots,y^{m}\\}$ the BCELoss function $l(x,y)$ computes the following.\n",
        "$$l(x,y) = \\frac{1}{m}\\sum_{i=1}^m y^{(i)}\\log x^{(i)} + (1-y^{(i)})\\log (1- x^{(i)})$$\n",
        "\n",
        "The **fifth task** is to make sure that ```d_loss``` is computing the quantity that discriminator wants to ascend. This is achieved by setting ```d_loss = d_loss_real + d_loss_fake``` and letting ```d_loss_real``` to be $\\frac{1}{m}\\sum_{i=1}^m\\log D(x^{(i)})$ and ```d_loss_fake``` to be $\\frac{1}{m}\\sum_{i=1}^m \\log(1-D(G(z^{(i)})))$. Hint: ```d_loss_real``` is already implemented.\n",
        "\n",
        "We now turn to train the generator. Initially, the generator wants to descend the following $\\nabla\\frac{1}{m}\\sum_{i=1}^m \\log(1-D(G(z^{(i)})))$. However, this may affect the training of the generator specifically in the early stages of training where the discriminator can confidently reject the generated examples [Goodfellow et al., 2014]. Instead, we will require the generator to ascend $\\nabla\\frac{1}{m}\\sum_{i=1}^m \\log(D(G(z^{(i)})))$. The **sixth task** is to compute ```g_loss``` used for training the generator.\n"
      ]
    },
    {
      "cell_type": "code",
      "execution_count": 6,
      "metadata": {
        "colab": {
          "base_uri": "https://localhost:8080/",
          "height": 0
        },
        "id": "RA8t-sCQZ8SG",
        "outputId": "d170d36f-369b-4906-cd06-2cf9d157f58d"
      },
      "outputs": [
        {
          "output_type": "stream",
          "name": "stdout",
          "text": [
            "Epoch [1/80], Step [300/600], Discriminator Loss: 0.1071, Generator Loss: 5.1463\n",
            "Epoch [1/80], Step [600/600], Discriminator Loss: 0.3309, Generator Loss: 2.9423\n",
            "Epoch [2/80], Step [300/600], Discriminator Loss: 0.0600, Generator Loss: 4.4207\n",
            "Epoch [2/80], Step [600/600], Discriminator Loss: 0.1938, Generator Loss: 3.7664\n",
            "Epoch [3/80], Step [300/600], Discriminator Loss: 0.5020, Generator Loss: 2.4576\n",
            "Epoch [3/80], Step [600/600], Discriminator Loss: 0.0621, Generator Loss: 5.0528\n",
            "Epoch [4/80], Step [300/600], Discriminator Loss: 0.1397, Generator Loss: 3.9798\n",
            "Epoch [4/80], Step [600/600], Discriminator Loss: 0.0938, Generator Loss: 6.5243\n",
            "Epoch [5/80], Step [300/600], Discriminator Loss: 0.1419, Generator Loss: 4.4510\n",
            "Epoch [5/80], Step [600/600], Discriminator Loss: 0.6368, Generator Loss: 2.7163\n",
            "Epoch [6/80], Step [300/600], Discriminator Loss: 0.6642, Generator Loss: 3.1510\n",
            "Epoch [6/80], Step [600/600], Discriminator Loss: 0.8482, Generator Loss: 1.5449\n",
            "Epoch [7/80], Step [300/600], Discriminator Loss: 0.3690, Generator Loss: 2.6802\n",
            "Epoch [7/80], Step [600/600], Discriminator Loss: 0.1536, Generator Loss: 3.6949\n",
            "Epoch [8/80], Step [300/600], Discriminator Loss: 0.3539, Generator Loss: 3.6669\n",
            "Epoch [8/80], Step [600/600], Discriminator Loss: 0.1972, Generator Loss: 4.6458\n",
            "Epoch [9/80], Step [300/600], Discriminator Loss: 0.4646, Generator Loss: 3.8903\n",
            "Epoch [9/80], Step [600/600], Discriminator Loss: 0.2278, Generator Loss: 3.5722\n",
            "Epoch [10/80], Step [300/600], Discriminator Loss: 0.4306, Generator Loss: 2.8711\n",
            "Epoch [10/80], Step [600/600], Discriminator Loss: 0.1241, Generator Loss: 5.0751\n",
            "Epoch [11/80], Step [300/600], Discriminator Loss: 0.4588, Generator Loss: 2.9776\n",
            "Epoch [11/80], Step [600/600], Discriminator Loss: 0.2351, Generator Loss: 4.0441\n",
            "Epoch [12/80], Step [300/600], Discriminator Loss: 0.1945, Generator Loss: 4.7213\n",
            "Epoch [12/80], Step [600/600], Discriminator Loss: 0.2627, Generator Loss: 4.2549\n",
            "Epoch [13/80], Step [300/600], Discriminator Loss: 0.4203, Generator Loss: 4.6843\n",
            "Epoch [13/80], Step [600/600], Discriminator Loss: 0.2726, Generator Loss: 5.2366\n",
            "Epoch [14/80], Step [300/600], Discriminator Loss: 0.3032, Generator Loss: 4.6394\n",
            "Epoch [14/80], Step [600/600], Discriminator Loss: 0.2233, Generator Loss: 4.9356\n",
            "Epoch [15/80], Step [300/600], Discriminator Loss: 0.2528, Generator Loss: 3.9196\n",
            "Epoch [15/80], Step [600/600], Discriminator Loss: 0.1441, Generator Loss: 4.3948\n",
            "Epoch [16/80], Step [300/600], Discriminator Loss: 0.3165, Generator Loss: 3.5649\n",
            "Epoch [16/80], Step [600/600], Discriminator Loss: 0.2412, Generator Loss: 4.8617\n",
            "Epoch [17/80], Step [300/600], Discriminator Loss: 0.3585, Generator Loss: 4.7499\n",
            "Epoch [17/80], Step [600/600], Discriminator Loss: 0.3374, Generator Loss: 4.2811\n",
            "Epoch [18/80], Step [300/600], Discriminator Loss: 0.2225, Generator Loss: 4.1256\n",
            "Epoch [18/80], Step [600/600], Discriminator Loss: 0.3694, Generator Loss: 3.2260\n",
            "Epoch [19/80], Step [300/600], Discriminator Loss: 0.3984, Generator Loss: 2.9767\n",
            "Epoch [19/80], Step [600/600], Discriminator Loss: 0.3014, Generator Loss: 5.5724\n",
            "Epoch [20/80], Step [300/600], Discriminator Loss: 0.5825, Generator Loss: 4.3981\n",
            "Epoch [20/80], Step [600/600], Discriminator Loss: 0.4783, Generator Loss: 4.0397\n",
            "Epoch [21/80], Step [300/600], Discriminator Loss: 0.5195, Generator Loss: 2.5143\n",
            "Epoch [21/80], Step [600/600], Discriminator Loss: 0.5258, Generator Loss: 2.4681\n",
            "Epoch [22/80], Step [300/600], Discriminator Loss: 0.3513, Generator Loss: 3.1624\n",
            "Epoch [22/80], Step [600/600], Discriminator Loss: 0.2530, Generator Loss: 3.6115\n",
            "Epoch [23/80], Step [300/600], Discriminator Loss: 0.3549, Generator Loss: 3.5639\n",
            "Epoch [23/80], Step [600/600], Discriminator Loss: 0.4821, Generator Loss: 4.0944\n",
            "Epoch [24/80], Step [300/600], Discriminator Loss: 0.1663, Generator Loss: 4.0436\n",
            "Epoch [24/80], Step [600/600], Discriminator Loss: 0.5332, Generator Loss: 2.0694\n",
            "Epoch [25/80], Step [300/600], Discriminator Loss: 0.3465, Generator Loss: 4.2531\n",
            "Epoch [25/80], Step [600/600], Discriminator Loss: 0.4745, Generator Loss: 2.9608\n",
            "Epoch [26/80], Step [300/600], Discriminator Loss: 0.4121, Generator Loss: 4.1618\n",
            "Epoch [26/80], Step [600/600], Discriminator Loss: 0.3714, Generator Loss: 3.6730\n",
            "Epoch [27/80], Step [300/600], Discriminator Loss: 0.4246, Generator Loss: 4.0611\n",
            "Epoch [27/80], Step [600/600], Discriminator Loss: 0.5891, Generator Loss: 2.4960\n",
            "Epoch [28/80], Step [300/600], Discriminator Loss: 0.3134, Generator Loss: 3.0140\n",
            "Epoch [28/80], Step [600/600], Discriminator Loss: 0.4832, Generator Loss: 2.5297\n",
            "Epoch [29/80], Step [300/600], Discriminator Loss: 0.5571, Generator Loss: 2.6876\n",
            "Epoch [29/80], Step [600/600], Discriminator Loss: 0.3873, Generator Loss: 2.9834\n",
            "Epoch [30/80], Step [300/600], Discriminator Loss: 0.4998, Generator Loss: 2.7009\n",
            "Epoch [30/80], Step [600/600], Discriminator Loss: 0.5790, Generator Loss: 2.7112\n",
            "Epoch [31/80], Step [300/600], Discriminator Loss: 0.4230, Generator Loss: 2.4563\n",
            "Epoch [31/80], Step [600/600], Discriminator Loss: 0.3916, Generator Loss: 2.6139\n",
            "Epoch [32/80], Step [300/600], Discriminator Loss: 0.5990, Generator Loss: 2.4622\n",
            "Epoch [32/80], Step [600/600], Discriminator Loss: 0.5203, Generator Loss: 3.2883\n",
            "Epoch [33/80], Step [300/600], Discriminator Loss: 0.5886, Generator Loss: 2.4163\n",
            "Epoch [33/80], Step [600/600], Discriminator Loss: 0.4198, Generator Loss: 3.4140\n",
            "Epoch [34/80], Step [300/600], Discriminator Loss: 0.5174, Generator Loss: 2.3986\n",
            "Epoch [34/80], Step [600/600], Discriminator Loss: 0.4494, Generator Loss: 3.5340\n",
            "Epoch [35/80], Step [300/600], Discriminator Loss: 0.4243, Generator Loss: 3.1746\n",
            "Epoch [35/80], Step [600/600], Discriminator Loss: 0.3785, Generator Loss: 2.1665\n",
            "Epoch [36/80], Step [300/600], Discriminator Loss: 0.5770, Generator Loss: 2.1451\n",
            "Epoch [36/80], Step [600/600], Discriminator Loss: 0.6075, Generator Loss: 3.0046\n",
            "Epoch [37/80], Step [300/600], Discriminator Loss: 0.5286, Generator Loss: 2.1192\n",
            "Epoch [37/80], Step [600/600], Discriminator Loss: 0.5807, Generator Loss: 2.3782\n",
            "Epoch [38/80], Step [300/600], Discriminator Loss: 0.6942, Generator Loss: 1.6603\n",
            "Epoch [38/80], Step [600/600], Discriminator Loss: 0.9128, Generator Loss: 1.7416\n",
            "Epoch [39/80], Step [300/600], Discriminator Loss: 0.5945, Generator Loss: 2.0515\n",
            "Epoch [39/80], Step [600/600], Discriminator Loss: 0.5922, Generator Loss: 2.3681\n",
            "Epoch [40/80], Step [300/600], Discriminator Loss: 0.5706, Generator Loss: 1.9808\n",
            "Epoch [40/80], Step [600/600], Discriminator Loss: 0.5641, Generator Loss: 2.2059\n",
            "Epoch [41/80], Step [300/600], Discriminator Loss: 0.5519, Generator Loss: 1.9867\n",
            "Epoch [41/80], Step [600/600], Discriminator Loss: 0.6680, Generator Loss: 1.9071\n",
            "Epoch [42/80], Step [300/600], Discriminator Loss: 0.7390, Generator Loss: 2.6689\n",
            "Epoch [42/80], Step [600/600], Discriminator Loss: 0.8945, Generator Loss: 2.6984\n",
            "Epoch [43/80], Step [300/600], Discriminator Loss: 0.6475, Generator Loss: 2.2995\n",
            "Epoch [43/80], Step [600/600], Discriminator Loss: 0.6011, Generator Loss: 2.3748\n",
            "Epoch [44/80], Step [300/600], Discriminator Loss: 0.5426, Generator Loss: 2.2274\n",
            "Epoch [44/80], Step [600/600], Discriminator Loss: 0.7631, Generator Loss: 2.5269\n",
            "Epoch [45/80], Step [300/600], Discriminator Loss: 0.6138, Generator Loss: 2.4750\n",
            "Epoch [45/80], Step [600/600], Discriminator Loss: 0.6984, Generator Loss: 2.7053\n",
            "Epoch [46/80], Step [300/600], Discriminator Loss: 0.7666, Generator Loss: 3.0271\n",
            "Epoch [46/80], Step [600/600], Discriminator Loss: 0.6699, Generator Loss: 2.4369\n",
            "Epoch [47/80], Step [300/600], Discriminator Loss: 0.5887, Generator Loss: 2.6095\n",
            "Epoch [47/80], Step [600/600], Discriminator Loss: 0.8093, Generator Loss: 2.5923\n",
            "Epoch [48/80], Step [300/600], Discriminator Loss: 0.6934, Generator Loss: 1.6549\n",
            "Epoch [48/80], Step [600/600], Discriminator Loss: 0.7153, Generator Loss: 1.7099\n",
            "Epoch [49/80], Step [300/600], Discriminator Loss: 0.7830, Generator Loss: 2.1275\n",
            "Epoch [49/80], Step [600/600], Discriminator Loss: 0.6815, Generator Loss: 2.3425\n",
            "Epoch [50/80], Step [300/600], Discriminator Loss: 0.9468, Generator Loss: 1.5918\n",
            "Epoch [50/80], Step [600/600], Discriminator Loss: 0.6251, Generator Loss: 2.2778\n",
            "Epoch [51/80], Step [300/600], Discriminator Loss: 0.8095, Generator Loss: 1.7224\n",
            "Epoch [51/80], Step [600/600], Discriminator Loss: 0.6157, Generator Loss: 2.0982\n",
            "Epoch [52/80], Step [300/600], Discriminator Loss: 0.7481, Generator Loss: 1.9445\n",
            "Epoch [52/80], Step [600/600], Discriminator Loss: 0.6631, Generator Loss: 2.2232\n",
            "Epoch [53/80], Step [300/600], Discriminator Loss: 0.7328, Generator Loss: 1.9209\n",
            "Epoch [53/80], Step [600/600], Discriminator Loss: 0.8038, Generator Loss: 1.4362\n",
            "Epoch [54/80], Step [300/600], Discriminator Loss: 0.5320, Generator Loss: 2.6017\n",
            "Epoch [54/80], Step [600/600], Discriminator Loss: 0.9678, Generator Loss: 2.0390\n",
            "Epoch [55/80], Step [300/600], Discriminator Loss: 0.7406, Generator Loss: 2.0810\n",
            "Epoch [55/80], Step [600/600], Discriminator Loss: 0.6922, Generator Loss: 1.7125\n",
            "Epoch [56/80], Step [300/600], Discriminator Loss: 0.7942, Generator Loss: 1.9242\n",
            "Epoch [56/80], Step [600/600], Discriminator Loss: 0.6521, Generator Loss: 1.7918\n",
            "Epoch [57/80], Step [300/600], Discriminator Loss: 0.6937, Generator Loss: 2.3265\n",
            "Epoch [57/80], Step [600/600], Discriminator Loss: 0.6319, Generator Loss: 2.4639\n",
            "Epoch [58/80], Step [300/600], Discriminator Loss: 0.8457, Generator Loss: 2.0322\n",
            "Epoch [58/80], Step [600/600], Discriminator Loss: 0.8005, Generator Loss: 2.0413\n",
            "Epoch [59/80], Step [300/600], Discriminator Loss: 0.5630, Generator Loss: 1.8847\n",
            "Epoch [59/80], Step [600/600], Discriminator Loss: 0.7972, Generator Loss: 2.0498\n",
            "Epoch [60/80], Step [300/600], Discriminator Loss: 0.5145, Generator Loss: 2.3418\n",
            "Epoch [60/80], Step [600/600], Discriminator Loss: 0.7241, Generator Loss: 1.9990\n",
            "Epoch [61/80], Step [300/600], Discriminator Loss: 1.0463, Generator Loss: 1.8663\n",
            "Epoch [61/80], Step [600/600], Discriminator Loss: 0.8860, Generator Loss: 1.6317\n",
            "Epoch [62/80], Step [300/600], Discriminator Loss: 0.8744, Generator Loss: 1.8765\n",
            "Epoch [62/80], Step [600/600], Discriminator Loss: 0.6440, Generator Loss: 1.9186\n",
            "Epoch [63/80], Step [300/600], Discriminator Loss: 0.7111, Generator Loss: 1.7039\n",
            "Epoch [63/80], Step [600/600], Discriminator Loss: 0.8077, Generator Loss: 2.4946\n",
            "Epoch [64/80], Step [300/600], Discriminator Loss: 0.7936, Generator Loss: 2.0028\n",
            "Epoch [64/80], Step [600/600], Discriminator Loss: 0.6932, Generator Loss: 1.9018\n",
            "Epoch [65/80], Step [300/600], Discriminator Loss: 0.5515, Generator Loss: 2.6589\n",
            "Epoch [65/80], Step [600/600], Discriminator Loss: 0.6757, Generator Loss: 2.1889\n",
            "Epoch [66/80], Step [300/600], Discriminator Loss: 0.7674, Generator Loss: 1.6358\n",
            "Epoch [66/80], Step [600/600], Discriminator Loss: 0.6195, Generator Loss: 2.6869\n",
            "Epoch [67/80], Step [300/600], Discriminator Loss: 0.9669, Generator Loss: 1.2006\n",
            "Epoch [67/80], Step [600/600], Discriminator Loss: 0.7753, Generator Loss: 1.8118\n",
            "Epoch [68/80], Step [300/600], Discriminator Loss: 0.7186, Generator Loss: 1.9318\n",
            "Epoch [68/80], Step [600/600], Discriminator Loss: 0.6723, Generator Loss: 1.8359\n",
            "Epoch [69/80], Step [300/600], Discriminator Loss: 0.8577, Generator Loss: 1.6964\n",
            "Epoch [69/80], Step [600/600], Discriminator Loss: 0.8564, Generator Loss: 1.6796\n",
            "Epoch [70/80], Step [300/600], Discriminator Loss: 0.8748, Generator Loss: 2.1423\n",
            "Epoch [70/80], Step [600/600], Discriminator Loss: 0.8965, Generator Loss: 1.7280\n",
            "Epoch [71/80], Step [300/600], Discriminator Loss: 0.8279, Generator Loss: 1.6851\n",
            "Epoch [71/80], Step [600/600], Discriminator Loss: 0.8962, Generator Loss: 1.9833\n",
            "Epoch [72/80], Step [300/600], Discriminator Loss: 0.8042, Generator Loss: 1.9731\n",
            "Epoch [72/80], Step [600/600], Discriminator Loss: 0.7993, Generator Loss: 1.8908\n",
            "Epoch [73/80], Step [300/600], Discriminator Loss: 0.7687, Generator Loss: 1.9093\n",
            "Epoch [73/80], Step [600/600], Discriminator Loss: 0.7616, Generator Loss: 1.5569\n",
            "Epoch [74/80], Step [300/600], Discriminator Loss: 0.9051, Generator Loss: 1.6831\n",
            "Epoch [74/80], Step [600/600], Discriminator Loss: 0.8110, Generator Loss: 1.5897\n",
            "Epoch [75/80], Step [300/600], Discriminator Loss: 0.8686, Generator Loss: 1.7293\n",
            "Epoch [75/80], Step [600/600], Discriminator Loss: 0.7325, Generator Loss: 2.1845\n",
            "Epoch [76/80], Step [300/600], Discriminator Loss: 0.9265, Generator Loss: 1.6913\n",
            "Epoch [76/80], Step [600/600], Discriminator Loss: 0.8309, Generator Loss: 2.5844\n",
            "Epoch [77/80], Step [300/600], Discriminator Loss: 0.7762, Generator Loss: 2.0291\n",
            "Epoch [77/80], Step [600/600], Discriminator Loss: 0.7253, Generator Loss: 2.0366\n",
            "Epoch [78/80], Step [300/600], Discriminator Loss: 1.1019, Generator Loss: 1.5556\n",
            "Epoch [78/80], Step [600/600], Discriminator Loss: 0.8213, Generator Loss: 1.4691\n",
            "Epoch [79/80], Step [300/600], Discriminator Loss: 0.8709, Generator Loss: 1.7158\n",
            "Epoch [79/80], Step [600/600], Discriminator Loss: 0.8150, Generator Loss: 1.7747\n",
            "Epoch [80/80], Step [300/600], Discriminator Loss: 0.9397, Generator Loss: 1.7925\n",
            "Epoch [80/80], Step [600/600], Discriminator Loss: 0.6983, Generator Loss: 1.5767\n"
          ]
        }
      ],
      "source": [
        "num_epochs = 80\n",
        "total_step = len(data_loader)\n",
        "for epoch in range(num_epochs):\n",
        "    for i, (images, _) in enumerate(data_loader):\n",
        "        real_images = images.to(device)\n",
        "\n",
        "        # Training discriminator\n",
        "        discriminator.zero_grad()\n",
        "        real_outputs = discriminator(real_images)\n",
        "        real_labels = torch.ones(real_images.size(0), 1).to(device)\n",
        "        d_loss_real = criterion(real_outputs, real_labels)\n",
        "\n",
        "        #ToDo: Compute d_loss_fake\n",
        "        noise = torch.randn(real_images.size(0), n_dim).to(device)\n",
        "        fake_images = generator(noise)\n",
        "        fake_outputs = discriminator(fake_images.detach())\n",
        "        fake_labels = torch.zeros(fake_images.size(0), 1).to(device)\n",
        "        d_loss_fake = criterion(fake_outputs, fake_labels)\n",
        "\n",
        "        d_loss = d_loss_real + d_loss_fake\n",
        "        d_loss.backward()\n",
        "        d_optimizer.step()\n",
        "\n",
        "        # Training generator\n",
        "        generator.zero_grad()\n",
        "\n",
        "        output = discriminator(fake_images)\n",
        "        real_labels = torch.ones(fake_images.size(0), 1).to(device)\n",
        "        #ToDo: compute g_loss\n",
        "        g_loss = criterion(output, real_labels)\n",
        "\n",
        "        g_loss.backward()\n",
        "        g_optimizer.step()\n",
        "\n",
        "        if (i+1) % 300 == 0:\n",
        "            print(f'Epoch [{epoch+1}/{num_epochs}], Step [{i+1}/{total_step}], '\n",
        "                  f'Discriminator Loss: {d_loss.item():.4f}, '\n",
        "                  f'Generator Loss: {g_loss.item():.4f}')"
      ]
    },
    {
      "cell_type": "markdown",
      "metadata": {
        "id": "q3CGaQzDDRg8"
      },
      "source": [
        "### Q1.6 Plotting the results (5 points)\n",
        "The **seventh and final task** for this question is to try the trained generator. Generate 4 random vectors, apply the generator on them, and plot the resulting image in a single 2 by 2 plot."
      ]
    },
    {
      "cell_type": "code",
      "execution_count": 7,
      "metadata": {
        "colab": {
          "base_uri": "https://localhost:8080/",
          "height": 653
        },
        "id": "lvUJnaqSJCPM",
        "outputId": "934b0079-e304-4d8f-8bc6-c4b12d201819"
      },
      "outputs": [
        {
          "output_type": "display_data",
          "data": {
            "text/plain": [
              "<Figure size 800x800 with 4 Axes>"
            ],
            "image/png": "[encoded data removed]"
          },
          "metadata": {}
        }
      ],
      "source": [
        "with torch.no_grad():\n",
        "# Your code here\n",
        "  noise = torch.randn(4, n_dim).to(device)\n",
        "  fake_images = generator(noise)\n",
        "\n",
        "  fake_images = fake_images.view(-1, 28, 28).cpu().numpy()\n",
        "\n",
        "  fig, axs = plt.subplots(2, 2, figsize=(8, 8))\n",
        "  axs = axs.ravel()\n",
        "  for i in range(4):\n",
        "      axs[i].imshow(fake_images[i], cmap='gray')\n",
        "      axs[i].axis('off')\n",
        "  plt.show()\n",
        "\n"
      ]
    },
    {
      "cell_type": "markdown",
      "metadata": {
        "id": "ifoL2LfccMKA"
      },
      "source": [
        "## Question 2 - Transformers (65 points)\n",
        "In this question we will be implementing a transformer architecture and apply it on a simple artificially generated dataset."
      ]
    },
    {
      "cell_type": "markdown",
      "metadata": {
        "id": "qtZX21CEcu6p"
      },
      "source": [
        "### Q2.1 Multi-Head Attention (9 points)\n",
        "\n",
        "The attention layer works on batches of training data where each training data itself is a sequence of words/token with length at most ```seq_length``` and each word is embedded into a ```d_embedding``` dimensional vector, e.g., later when we run the transformer on the artificial dataset, the inputs to the transformer and attention layer have shapes of ```[batch_size,seq_length,d_embedding]```. Recall from the lecture that a multi-head attention layer consists of ```n_heads``` self-attention heads. The input matrices Query Q, Key K, and Value V to multi-attention head are passed through linear layers $W_Q$, $W_K$, and $W_V$ which are trainable parameters. The multi-head attention will divide the embedding vector of the input into ```n_heads``` vector of size ```d_k``` and use each as an attention head. This is particularly done by the ```make_heads``` function which transforms the input to an output of shape ```[batch_size, n_heads, seq_length, d_k]```. The multi-head attention then computes the probabilities using the input values, which is implemented by the ```compute_attention_probs``` function. It then joins them using the ```join_heads``` function and finally passes them through an output linear layer $W_O$. The **first task** is to implement the ```forward``` function of Multi-Head attention using the functions already implemented."
      ]
    },
    {
      "cell_type": "code",
      "execution_count": 8,
      "metadata": {
        "id": "pE_j8e5u4aLv"
      },
      "outputs": [],
      "source": [
        "import torch\n",
        "import torch.nn as nn\n",
        "import torch.optim as optim\n",
        "import torch.utils.data as data\n",
        "import math\n",
        "import copy\n",
        "\n",
        "class MultiHeadAttention(nn.Module):\n",
        "    def __init__(self, d_embedding, n_heads):\n",
        "        super(MultiHeadAttention, self).__init__()\n",
        "        assert d_embedding % n_heads == 0\n",
        "\n",
        "        self.d_embedding = d_embedding\n",
        "        self.n_heads = n_heads\n",
        "        self.d_k = d_embedding // n_heads\n",
        "\n",
        "        self.W_q = nn.Linear(d_embedding, d_embedding)\n",
        "        self.W_k = nn.Linear(d_embedding, d_embedding)\n",
        "        self.W_v = nn.Linear(d_embedding, d_embedding)\n",
        "        self.W_o = nn.Linear(d_embedding, d_embedding)\n",
        "\n",
        "    def compute_attention_probs(self, Q, K, V, mask=None):\n",
        "        attn_scores = torch.matmul(Q, K.transpose(-2, -1)) / math.sqrt(self.d_k)\n",
        "        if mask is not None:\n",
        "            attn_scores = attn_scores.masked_fill(mask == 0, -1e9)\n",
        "        attn_probs = torch.softmax(attn_scores, dim=-1)\n",
        "        output = torch.matmul(attn_probs, V)\n",
        "        return output\n",
        "\n",
        "\n",
        "    def make_heads(self, x):\n",
        "        batch_size, seq_length, d_embedding = x.size()\n",
        "        y=x.view(batch_size, seq_length, self.n_heads, self.d_k).transpose(1, 2)\n",
        "        return x.view(batch_size, seq_length, self.n_heads, self.d_k).transpose(1, 2)\n",
        "\n",
        "    def join_heads(self, x):\n",
        "        batch_size, _, seq_length, d_k = x.size()\n",
        "        return x.transpose(1, 2).contiguous().view(batch_size, seq_length, self.d_embedding)\n",
        "\n",
        "    def forward(self, Q, K, V, mask=None):\n",
        "       #ToDo: Complete code\n",
        "       Q_proj = self.W_q(Q)\n",
        "       K_proj = self.W_k(K)\n",
        "       V_proj = self.W_v(V)\n",
        "\n",
        "       Q_heads = self.make_heads(Q_proj)\n",
        "       K_heads = self.make_heads(K_proj)\n",
        "       V_heads = self.make_heads(V_proj)\n",
        "\n",
        "       attn_output = self.compute_attention_probs(Q_heads, K_heads, V_heads, mask)\n",
        "\n",
        "       output = self.join_heads(attn_output)\n",
        "       output = self.W_o(output)\n",
        "\n",
        "       return output\n",
        "\n"
      ]
    },
    {
      "cell_type": "markdown",
      "metadata": {
        "id": "nT0KE6fB6497"
      },
      "source": [
        "### Q2.2 Feed-forward layer (2 points)\n",
        "The output of the multi-head attention layer is used as an input to the feed-forward layer in the encoder. This layer is implemented in the following class. The **second task** is to complete the ```forward``` function of this class."
      ]
    },
    {
      "cell_type": "code",
      "execution_count": 9,
      "metadata": {
        "id": "InGgN9XN7muD"
      },
      "outputs": [],
      "source": [
        "class FeedForward(nn.Module):\n",
        "    def __init__(self, d_embedding, d_ff):\n",
        "        super(FeedForward, self).__init__()\n",
        "        self.fc1 = nn.Linear(d_embedding, d_ff)\n",
        "        self.fc2 = nn.Linear(d_ff, d_embedding)\n",
        "        self.relu = nn.ReLU()\n",
        "\n",
        "    def forward(self, x):\n",
        "        #ToDO: Complete code\n",
        "\n",
        "        x = self.fc1(x)\n",
        "        x = self.relu(x)\n",
        "        x = self.fc2(x)\n",
        "        return x"
      ]
    },
    {
      "cell_type": "markdown",
      "metadata": {
        "id": "uaZ1PCFJ9DXf"
      },
      "source": [
        "### Q2.3 Encoder Block (9 points)\n",
        "\n",
        "We now have all the necessary classes to build the Encoder block. The encoder block gets as input a batch of data. It first passes the input through the multi-attention layer. It then applies 1) a droput layer, 2) adds the input to the output of droupout layer as a residual, 3) applies a layer normalization, 4) and passes the output to the feed-forward layer. Finally, it applies 1) a droput layer, 2) adds the input to the output of droupout layer as a residual, and 3) Applies a layer normalization. The **third task** is to complete the ```forward``` function of this class."
      ]
    },
    {
      "cell_type": "code",
      "execution_count": 10,
      "metadata": {
        "id": "s0MnjetG_Zum"
      },
      "outputs": [],
      "source": [
        "class EncoderBlock(nn.Module):\n",
        "    def __init__(self, d_embedding, n_heads, d_ff, dropout):\n",
        "        super(EncoderBlock, self).__init__()\n",
        "        self.self_attention = MultiHeadAttention(d_embedding, n_heads)\n",
        "        self.feed_forward = FeedForward(d_embedding, d_ff)\n",
        "        self.norm1 = nn.LayerNorm(d_embedding)\n",
        "        self.norm2 = nn.LayerNorm(d_embedding)\n",
        "        self.dropout = nn.Dropout(dropout)\n",
        "\n",
        "    def forward(self, x, mask):\n",
        "        #ToDo: Complete code\n",
        "        \"\"\"\n",
        "        Returns: The output of encoder on a given input batch x\n",
        "        \"\"\"\n",
        "        attn_output = self.self_attention(x, x, x, mask)\n",
        "        attn_output = self.dropout(attn_output)\n",
        "\n",
        "        x = self.norm1(x + attn_output)\n",
        "\n",
        "        ff_output = self.feed_forward(x)\n",
        "        ff_output = self.dropout(ff_output)\n",
        "\n",
        "        x = self.norm2(x + ff_output)\n",
        "\n",
        "        return x"
      ]
    },
    {
      "cell_type": "markdown",
      "metadata": {
        "id": "jru9E9dZ_aKv"
      },
      "source": [
        "### Q2.4 Decoder Block (20 points)\n",
        "\n",
        "In this part we will build the decoder block. The **fourth task** is to implement the DecoderBlock. You can refer to the lecture notes to find the architecture of the decoder block including the multi-attention layers, add and norm layers, and the feedforward layer. You can also add a *dropout* layer to the final add and norm layer.\n"
      ]
    },
    {
      "cell_type": "code",
      "execution_count": 11,
      "metadata": {
        "id": "HCX_D3xoFYJo"
      },
      "outputs": [],
      "source": [
        "class DecoderBlock(nn.Module):\n",
        "    def __init__(self, d_embedding, n_heads, d_ff, dropout):\n",
        "        super(DecoderBlock, self).__init__()\n",
        "        \"\"\"\n",
        "        Args:\n",
        "           self_attention: decoder's multi-head attention\n",
        "           cross_attention: The multi-head attention layer between the encoder and the decoder\n",
        "           feed_forward: feed-forward layer\n",
        "           mask: mask to be given for multi head attention\n",
        "           norm1: First Normalization layer\n",
        "           norm2: Second Normalization layer\n",
        "           norm3: Third Normalization layer\n",
        "           dropout: Final dropout layer\n",
        "        \"\"\"\n",
        "\n",
        "        self.self_attention = MultiHeadAttention(d_embedding, n_heads)\n",
        "        self.cross_attention = MultiHeadAttention(d_embedding, n_heads)\n",
        "        self.feed_forward = FeedForward(d_embedding, d_ff)\n",
        "        self.norm1 = nn.LayerNorm(d_embedding)\n",
        "        self.norm2 = nn.LayerNorm(d_embedding)\n",
        "        self.norm3 = nn.LayerNorm(d_embedding)\n",
        "        self.dropout = nn.Dropout(dropout)\n",
        "\n",
        "\n",
        "\n",
        "    def forward(self, x, enc_output, src_mask, tgt_mask):\n",
        "        \"\"\"\n",
        "        Returns: The output of decoder on a given input batch x\n",
        "        \"\"\"\n",
        "\n",
        "        attn_output = self.self_attention(x, x, x, tgt_mask)\n",
        "        attn_output = self.dropout(attn_output)\n",
        "\n",
        "        x = self.norm1(x + attn_output)\n",
        "\n",
        "        cross_attn_output = self.cross_attention(x, enc_output, enc_output, src_mask)\n",
        "        cross_attn_output = self.dropout(cross_attn_output)\n",
        "\n",
        "        x = self.norm2(x + cross_attn_output)\n",
        "\n",
        "        ff_output = self.feed_forward(x)\n",
        "        ff_output = self.dropout(ff_output)\n",
        "\n",
        "        x = self.norm3(x + ff_output)\n",
        "\n",
        "        return x"
      ]
    },
    {
      "cell_type": "markdown",
      "metadata": {
        "id": "UyH9ROxRI252"
      },
      "source": [
        "### Q2.5 Transformer Block (20 points)\n",
        "\n",
        "Finally, we use the classes defined for EncoderBlock and DecoderBlock to build the TransformerBlock. The **fifth task** is to complete the ```forward``` function of this class. Note that ```num_layers``` indicates the number of encoder and decoder layers in the transformer. You can refer to the final architecture of the Transformer from the lectures. You can also include a dropout layer after embedding the source and target inputs. Remember to apply positional encoding to the input batch before passing it to the transformer."
      ]
    },
    {
      "cell_type": "code",
      "execution_count": 12,
      "metadata": {
        "id": "2Sz2JAuwmnNn"
      },
      "outputs": [],
      "source": [
        "class PositionalEncoding(nn.Module):\n",
        "    def __init__(self, d_embedding, max_seq_length):\n",
        "        super(PositionalEncoding, self).__init__()\n",
        "\n",
        "        pe = torch.zeros(max_seq_length, d_embedding)\n",
        "        position = torch.arange(0, max_seq_length, dtype=torch.float).unsqueeze(1)\n",
        "        div_term = torch.exp(torch.arange(0, d_embedding, 2).float() * -(math.log(10000.0) / d_embedding))\n",
        "\n",
        "        pe[:, 0::2] = torch.sin(position * div_term)\n",
        "        pe[:, 1::2] = torch.cos(position * div_term)\n",
        "\n",
        "        self.register_buffer('pe', pe.unsqueeze(0))\n",
        "\n",
        "    def forward(self, x):\n",
        "        return x + self.pe[:, :x.size(1)]\n",
        "\n",
        "class Transformer(nn.Module):\n",
        "    def __init__(self, src_vocab_size, tgt_vocab_size, d_embedding, n_heads, num_layers, d_ff, max_seq_length, dropout):\n",
        "        super(Transformer, self).__init__()\n",
        "        self.encoder_embedding = nn.Embedding(src_vocab_size, d_embedding)\n",
        "        self.decoder_embedding = nn.Embedding(tgt_vocab_size, d_embedding)\n",
        "        self.positional_encoding = PositionalEncoding(d_embedding, max_seq_length)\n",
        "\n",
        "        self.encoder_layers = nn.ModuleList([EncoderBlock(d_embedding, n_heads, d_ff, dropout) for _ in range(num_layers)])\n",
        "        self.decoder_layers = nn.ModuleList([DecoderBlock(d_embedding, n_heads, d_ff, dropout) for _ in range(num_layers)])\n",
        "\n",
        "        self.fc = nn.Linear(d_embedding, tgt_vocab_size)\n",
        "        self.dropout = nn.Dropout(dropout)\n",
        "\n",
        "    # Masking the input; the outputs returned by this function should be passed to encoder and decoder layers\n",
        "    def generate_mask(self, src, tgt):\n",
        "        src_mask = (src != 0).unsqueeze(1).unsqueeze(2)\n",
        "        tgt_mask = (tgt != 0).unsqueeze(1).unsqueeze(3)\n",
        "        seq_length = tgt.size(1)\n",
        "        nopeak_mask = (1 - torch.triu(torch.ones(1, seq_length, seq_length), diagonal=1)).bool()\n",
        "        tgt_mask = tgt_mask & nopeak_mask\n",
        "        return src_mask, tgt_mask\n",
        "\n",
        "    def forward(self, src, tgt):\n",
        "        #ToDo: complete the code\n",
        "        src_mask, tgt_mask = self.generate_mask(src, tgt)\n",
        "        \"\"\"\n",
        "        Returns: The output of transformer on a given input batch x\n",
        "        \"\"\"\n",
        "        src = self.encoder_embedding(src)\n",
        "        src = self.positional_encoding(src)\n",
        "        src = self.dropout(src)\n",
        "\n",
        "        for layer in self.encoder_layers:\n",
        "            src = layer(src, src_mask)\n",
        "\n",
        "        tgt = self.decoder_embedding(tgt)\n",
        "        tgt = self.positional_encoding(tgt)\n",
        "        tgt = self.dropout(tgt)\n",
        "\n",
        "        for layer in self.decoder_layers:\n",
        "            tgt = layer(tgt, src, src_mask, tgt_mask)\n",
        "\n",
        "\n",
        "        output = self.fc(tgt)\n",
        "\n",
        "        return output"
      ]
    },
    {
      "cell_type": "markdown",
      "metadata": {
        "id": "dGtuTlqWms4B"
      },
      "source": [
        "### Q2.6 Training (5 points)\n",
        "We can now train the model on an imaginary randomly generated dataset. The **sixth task** is to complete the training code and plot the training loss."
      ]
    },
    {
      "cell_type": "code",
      "execution_count": 16,
      "metadata": {
        "colab": {
          "base_uri": "https://localhost:8080/",
          "height": 918
        },
        "id": "94xoG6QF5gnv",
        "outputId": "da3632cd-c9a0-4a5e-923f-df7d07275640"
      },
      "outputs": [
        {
          "output_type": "stream",
          "name": "stdout",
          "text": [
            "Epoch [1/25], Loss: 8.6861\n",
            "Epoch [2/25], Loss: 8.5543\n",
            "Epoch [3/25], Loss: 8.4790\n",
            "Epoch [4/25], Loss: 8.4289\n",
            "Epoch [5/25], Loss: 8.3707\n",
            "Epoch [6/25], Loss: 8.3070\n",
            "Epoch [7/25], Loss: 8.2345\n",
            "Epoch [8/25], Loss: 8.1482\n",
            "Epoch [9/25], Loss: 8.0705\n",
            "Epoch [10/25], Loss: 7.9879\n",
            "Epoch [11/25], Loss: 7.9059\n",
            "Epoch [12/25], Loss: 7.8287\n",
            "Epoch [13/25], Loss: 7.7497\n",
            "Epoch [14/25], Loss: 7.6646\n",
            "Epoch [15/25], Loss: 7.5807\n",
            "Epoch [16/25], Loss: 7.4970\n",
            "Epoch [17/25], Loss: 7.4108\n",
            "Epoch [18/25], Loss: 7.3329\n",
            "Epoch [19/25], Loss: 7.2516\n",
            "Epoch [20/25], Loss: 7.1705\n",
            "Epoch [21/25], Loss: 7.0951\n",
            "Epoch [22/25], Loss: 7.0087\n",
            "Epoch [23/25], Loss: 6.9296\n",
            "Epoch [24/25], Loss: 6.8578\n",
            "Epoch [25/25], Loss: 6.7802\n"
          ]
        },
        {
          "output_type": "display_data",
          "data": {
            "text/plain": [
              "<Figure size 640x480 with 1 Axes>"
            ],
            "image/png": "[encoded data removed]"
          },
          "metadata": {}
        }
      ],
      "source": [
        "src_vocab_size = 5000\n",
        "tgt_vocab_size = 5000\n",
        "d_embedding = 512\n",
        "n_heads = 8\n",
        "num_layers = 6\n",
        "d_ff = 2048\n",
        "max_seq_length = 100\n",
        "dropout = 0.1\n",
        "\n",
        "transformer = Transformer(src_vocab_size, tgt_vocab_size, d_embedding, n_heads, num_layers, d_ff, max_seq_length, dropout)\n",
        "\n",
        "# Generate random sample data\n",
        "src_data = torch.randint(1, src_vocab_size, (64, max_seq_length))\n",
        "tgt_data = torch.randint(1, tgt_vocab_size, (64, max_seq_length))\n",
        "\n",
        "criterion = nn.CrossEntropyLoss(ignore_index=0)\n",
        "optimizer = optim.Adam(transformer.parameters(), lr=0.0001, betas=(0.9, 0.98), eps=1e-9)\n",
        "\n",
        "transformer.train()\n",
        "\n",
        "losses = []\n",
        "\n",
        "for epoch in range(25):\n",
        "   #ToDo: complete the code\n",
        "\n",
        "   optimizer.zero_grad()\n",
        "   output = transformer(src_data, tgt_data[:, :-1])\n",
        "\n",
        "   output = output.view(-1, tgt_vocab_size)\n",
        "   tgt = tgt_data[:, 1:].contiguous().view(-1)\n",
        "\n",
        "   loss = criterion(output, tgt)\n",
        "   losses.append(loss.item())\n",
        "\n",
        "   loss.backward()\n",
        "   optimizer.step()\n",
        "\n",
        "   print(f\"Epoch [{epoch+1}/25], Loss: {loss.item():.4f}\")\n",
        "\n",
        "plt.plot(losses)\n",
        "plt.xlabel('Epoch')\n",
        "plt.ylabel('Loss')\n",
        "plt.title('Training Loss')\n",
        "plt.show()"
      ]
    }
  ],
  "metadata": {
    "colab": {
      "provenance": [],
      "toc_visible": true
    },
    "kernelspec": {
      "display_name": "Python 3",
      "name": "python3"
    },
    "language_info": {
      "name": "python"
    }
  },
  "nbformat": 4,
  "nbformat_minor": 0
}